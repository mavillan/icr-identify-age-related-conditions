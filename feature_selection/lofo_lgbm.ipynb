{
 "cells": [
  {
   "cell_type": "code",
   "execution_count": null,
   "id": "791e4da7",
   "metadata": {
    "_cell_guid": "b1076dfc-b9ad-4769-8c92-a6c4dae69d19",
    "_uuid": "8f2839f25d086af736a60e9eeb907d3b93b6e0e5",
    "papermill": {
     "duration": 2.806532,
     "end_time": "2023-06-15T16:40:06.936763",
     "exception": false,
     "start_time": "2023-06-15T16:40:04.130231",
     "status": "completed"
    },
    "tags": []
   },
   "outputs": [],
   "source": [
    "import numpy as np\n",
    "import pandas as pd\n",
    "import matplotlib.pyplot as plt\n",
    "import joblib\n",
    "import gc\n",
    "\n",
    "import lightgbm as lgb\n",
    "from lightgbm import LGBMClassifier\n",
    "from sklearn import preprocessing\n",
    "\n",
    "import optuna\n",
    "from optuna.visualization import (\n",
    "    plot_contour\n",
    "    , plot_edf\n",
    "    , plot_intermediate_values\n",
    "    , plot_optimization_history\n",
    "    , plot_parallel_coordinate\n",
    "    , plot_param_importances\n",
    "    , plot_slice\n",
    ")\n",
    "\n",
    "from lofo import LOFOImportance, Dataset, plot_importance\n",
    "from iterstrat.ml_stratifiers import (\n",
    "    RepeatedMultilabelStratifiedKFold,\n",
    "    MultilabelStratifiedShuffleSplit\n",
    ")\n",
    "from sklearn.metrics import make_scorer\n",
    "\n",
    "pd.set_option('display.max_columns', None)\n",
    "\n",
    "import plotly.express as px\n",
    "import plotly.io as pio\n",
    "pio.renderers.default = \"png\""
   ]
  },
  {
   "cell_type": "markdown",
   "id": "663b684f",
   "metadata": {
    "papermill": {
     "duration": 0.004786,
     "end_time": "2023-06-15T16:40:06.947030",
     "exception": false,
     "start_time": "2023-06-15T16:40:06.942244",
     "status": "completed"
    },
    "tags": []
   },
   "source": [
    "***\n",
    "## loading data"
   ]
  },
  {
   "cell_type": "code",
   "execution_count": null,
   "id": "783b3296",
   "metadata": {
    "papermill": {
     "duration": 0.19407,
     "end_time": "2023-06-15T16:40:07.146144",
     "exception": false,
     "start_time": "2023-06-15T16:40:06.952074",
     "status": "completed"
    },
    "tags": []
   },
   "outputs": [],
   "source": [
    "input_path = \"../data/raw\"\n",
    "\n",
    "train = pd.read_csv(f\"{input_path}/train.csv\")\n",
    "test  = pd.read_csv(f\"{input_path}/test.csv\")\n",
    "greeks = pd.read_csv(f\"{input_path}/greeks.csv\")\n",
    "\n",
    "train.columns = [col.strip() for col in train.columns]\n",
    "test.columns = [col.strip() for col in test.columns]\n",
    "\n",
    "# available features\n",
    "input_cols = train.columns[1:-1]\n",
    "categ_cols = [\"EJ\"]\n",
    "\n",
    "# we extend train with dummies from greeks\n",
    "dummies = pd.get_dummies(greeks[[\"Alpha\",\"Beta\",\"Gamma\",\"Delta\"]])\n",
    "train[dummies.columns] = dummies\n",
    "\n",
    "# encode of categorical features\n",
    "encoder = preprocessing.LabelEncoder().fit(train[\"EJ\"])\n",
    "train[\"EJ\"] = encoder.transform(train[\"EJ\"]).astype(int)\n",
    "test[\"EJ\"] = encoder.transform(test[\"EJ\"]).astype(int)\n",
    "\n",
    "display(train)"
   ]
  },
  {
   "cell_type": "markdown",
   "id": "b6c630e0-c57b-4f97-952c-5a3ba3679027",
   "metadata": {},
   "source": [
    "***\n",
    "## correlation between features"
   ]
  },
  {
   "cell_type": "code",
   "execution_count": null,
   "id": "8887b560-ffad-45cf-94a3-bbe5491670dd",
   "metadata": {},
   "outputs": [],
   "source": [
    "cols_pearson = train[input_cols].corr(method=\"pearson\")\n",
    "cols_spearman = train[input_cols].corr(method=\"spearman\")"
   ]
  },
  {
   "cell_type": "code",
   "execution_count": null,
   "id": "b2b76c00-633e-4da8-822f-e3dac45b831a",
   "metadata": {},
   "outputs": [],
   "source": [
    "corrs = cols_spearman.values\n",
    "corrs = corrs[np.triu_indices(corrs.shape[0])]\n",
    "\n",
    "fig = plt.figure(figsize=(12,5))\n",
    "ax = fig.add_subplot(1, 1, 1)\n",
    "plt.hist(corrs, bins=200)\n",
    "plt.grid()\n",
    "x_ticks = np.arange(-1, 1, 0.05)\n",
    "ax.set_xticks(x_ticks)\n",
    "plt.xticks(rotation = 90)\n",
    "plt.title(\"spearman corr hist\")\n",
    "plt.show()"
   ]
  },
  {
   "cell_type": "code",
   "execution_count": null,
   "id": "9b8ee12b-0d9e-41a4-9afa-52a0a4684174",
   "metadata": {},
   "outputs": [],
   "source": [
    "corrs = cols_pearson.values\n",
    "corrs = corrs[np.triu_indices(corrs.shape[0])]\n",
    "\n",
    "fig = plt.figure(figsize=(12,5))\n",
    "ax = fig.add_subplot(1, 1, 1)\n",
    "plt.hist(corrs, bins=200)\n",
    "plt.grid()\n",
    "x_ticks = np.arange(-1, 1, 0.05)\n",
    "ax.set_xticks(x_ticks)\n",
    "plt.xticks(rotation = 90)\n",
    "plt.title(\"pearson corr hist\")\n",
    "plt.show()"
   ]
  },
  {
   "cell_type": "markdown",
   "id": "aa995e32",
   "metadata": {
    "execution": {
     "iopub.execute_input": "2023-06-09T16:05:50.036679Z",
     "iopub.status.busy": "2023-06-09T16:05:50.036272Z",
     "iopub.status.idle": "2023-06-09T16:05:50.061002Z",
     "shell.execute_reply": "2023-06-09T16:05:50.059984Z",
     "shell.execute_reply.started": "2023-06-09T16:05:50.036650Z"
    },
    "papermill": {
     "duration": 0.006725,
     "end_time": "2023-06-15T16:40:07.211800",
     "exception": false,
     "start_time": "2023-06-15T16:40:07.205075",
     "status": "completed"
    },
    "tags": []
   },
   "source": [
    "***\n",
    "## training"
   ]
  },
  {
   "cell_type": "code",
   "execution_count": null,
   "id": "3473651c",
   "metadata": {
    "papermill": {
     "duration": 0.018317,
     "end_time": "2023-06-15T16:40:07.236931",
     "exception": false,
     "start_time": "2023-06-15T16:40:07.218614",
     "status": "completed"
    },
    "tags": []
   },
   "outputs": [],
   "source": [
    "def balanced_logloss_(y_true, y_pred):\n",
    "    n0 = np.sum(1-y_true)\n",
    "    n1 = np.sum(y_true)\n",
    "    p1 = np.clip(y_pred, 1e-15, 1-1e-15)\n",
    "    p0 = 1-p1\n",
    "    log_loss0 = - np.sum((1-y_true) * np.log(p0)) / n0\n",
    "    log_loss1 = - np.sum(y_true * np.log(p1)) / n1\n",
    "    return (log_loss0 + log_loss1)/2\n",
    "\n",
    "def balanced_logloss(y_pred: np.ndarray, data: lgb.Dataset):\n",
    "    y_true = data.get_label()\n",
    "    return 'balanced_logloss', balanced_logloss_(y_true, y_pred), False \n",
    "\n",
    "balanced_logloss_scorer = make_scorer(\n",
    "    balanced_logloss_, \n",
    "    greater_is_better=False\n",
    ")"
   ]
  },
  {
   "cell_type": "code",
   "execution_count": null,
   "id": "a8d4a43f-6d48-4e04-869d-f8b4387452a3",
   "metadata": {
    "tags": []
   },
   "outputs": [],
   "source": [
    "pct = train.Class.value_counts(normalize=True)\n",
    "scale_pos_weight = pct[0]/pct[1]\n",
    "print(\"scale_pos_weight:\", scale_pos_weight)\n",
    "\n",
    "cnt = train.Class.value_counts(normalize=False)\n",
    "neg_bagging_fraction = cnt[1]/cnt[0]\n",
    "print(\"neg_bagging_fraction:\", neg_bagging_fraction)"
   ]
  },
  {
   "cell_type": "code",
   "execution_count": null,
   "id": "1d1172b4",
   "metadata": {
    "papermill": {
     "duration": 0.025022,
     "end_time": "2023-06-15T16:40:07.268825",
     "exception": false,
     "start_time": "2023-06-15T16:40:07.243803",
     "status": "completed"
    },
    "tags": []
   },
   "outputs": [],
   "source": [
    "#balance_method = \"weight\"\n",
    "balance_method = \"bagging\"\n",
    "\n",
    "model_params = {\n",
    "    'objective': 'binary',\n",
    "    'metric': 'None',\n",
    "    'learning_rate': 0.005,\n",
    "    'max_bin': 63,\n",
    "    'num_leaves': 7,\n",
    "    'seed': 2112,\n",
    "    'first_metric_only': False,\n",
    "    'feature_pre_filter': False,\n",
    "    'verbosity': -1,\n",
    "    'feature_fraction': 0.75,\n",
    "    'lambda_l1': 0.00020196676966216634,\n",
    "    'lambda_l2': 2.3627262174517976e-09,\n",
    "    'min_data_in_leaf': 13,\n",
    "    'min_gain_to_split': 0.0007626326850799573,\n",
    "    'num_iterations': 1591,\n",
    "    'path_smooth': 2.652521741711401e-09\n",
    "}\n",
    "\n",
    "if balance_method == \"weight\":\n",
    "    model_params[\"scale_pos_weight\"] = scale_pos_weight\n",
    "elif balance_method == \"bagging\":\n",
    "    model_params[\"bagging_freq\"] = 1\n",
    "    model_params[\"pos_bagging_fraction\"] = 1\n",
    "    model_params[\"neg_bagging_fraction\"] = neg_bagging_fraction\n",
    "else:\n",
    "    print(\"Unknown balance_method\")\n",
    "    \n",
    "display(model_params)"
   ]
  },
  {
   "cell_type": "code",
   "execution_count": null,
   "id": "ec9c51b2-9909-4fb0-a848-3420e786c8fa",
   "metadata": {},
   "outputs": [],
   "source": [
    "# base model\n",
    "lgbm_model = LGBMClassifier(**model_params)\n",
    "display(lgbm_model)"
   ]
  },
  {
   "cell_type": "code",
   "execution_count": null,
   "id": "1d8d4d87-00a7-41e1-8971-85df782d26b0",
   "metadata": {},
   "outputs": [],
   "source": [
    "# input dataset\n",
    "dset = Dataset(\n",
    "    df = train,\n",
    "    target = \"Class\",\n",
    "    features = input_cols,\n",
    "    auto_group_threshold = 0.5,\n",
    ")"
   ]
  },
  {
   "cell_type": "code",
   "execution_count": null,
   "id": "94669d88-b8f0-436a-bd69-5820e1342b93",
   "metadata": {},
   "outputs": [],
   "source": [
    "# cv-split\n",
    "#rmskf = RepeatedMultilabelStratifiedKFold(n_splits=5, n_repeats=20, random_state=2112)\n",
    "#rmskf_split = list(rmskf.split(train, train[[\"Class\",\"Alpha_B\",\"Alpha_D\",\"Alpha_G\"]]))\n",
    "\n",
    "msss = MultilabelStratifiedShuffleSplit(n_splits=100, test_size=0.2, random_state=2112)\n",
    "msss_split = list(msss.split(train, train[[\"Class\",\"Alpha_B\",\"Alpha_D\",\"Alpha_G\"]]))"
   ]
  },
  {
   "cell_type": "code",
   "execution_count": null,
   "id": "a19d302b-a9b8-4a52-8fca-204422ecfaad",
   "metadata": {},
   "outputs": [],
   "source": [
    "lofo_imp = LOFOImportance(\n",
    "    dataset = dset,\n",
    "    scoring = balanced_logloss_scorer,\n",
    "    model = lgbm_model,\n",
    "    fit_params = None,\n",
    "    cv = msss_split,\n",
    "    n_jobs = 1,\n",
    "    \n",
    ")"
   ]
  },
  {
   "cell_type": "code",
   "execution_count": null,
   "id": "9f501f6f-fb23-4907-89fd-503d40b8b78c",
   "metadata": {},
   "outputs": [],
   "source": [
    "%%time\n",
    "importance_df = lofo_imp.get_importance()"
   ]
  },
  {
   "cell_type": "code",
   "execution_count": null,
   "id": "71a192a5-e73f-4a4a-a44b-29101034004c",
   "metadata": {},
   "outputs": [],
   "source": [
    "importance_df"
   ]
  },
  {
   "cell_type": "code",
   "execution_count": null,
   "id": "c9ba6894-e2fc-41bb-a976-2e360aa1e856",
   "metadata": {},
   "outputs": [],
   "source": [
    "# plot the means and standard deviations of the importances\n",
    "plot_importance(importance_df, figsize=(12, 20))"
   ]
  },
  {
   "cell_type": "code",
   "execution_count": null,
   "id": "06d00b48-9f5f-40d3-9d8f-29263ac0a8de",
   "metadata": {},
   "outputs": [],
   "source": [
    "# plot the means and standard deviations of the importances\n",
    "plot_importance(importance_df, figsize=(12, 20), kind=\"box\")"
   ]
  },
  {
   "cell_type": "code",
   "execution_count": null,
   "id": "5068a3d1-bb45-4cd9-a83e-8848ef1aac04",
   "metadata": {},
   "outputs": [],
   "source": [
    "importance_df.query(\"importance_mean < - 0.01\").feature.values.tolist()"
   ]
  },
  {
   "cell_type": "markdown",
   "id": "25f6e7fd",
   "metadata": {
    "papermill": {
     "duration": 0.0756,
     "end_time": "2023-06-15T16:44:33.334089",
     "exception": false,
     "start_time": "2023-06-15T16:44:33.258489",
     "status": "completed"
    },
    "tags": []
   },
   "source": [
    "***"
   ]
  }
 ],
 "metadata": {
  "kernelspec": {
   "display_name": "Python 3 (ipykernel)",
   "language": "python",
   "name": "python3"
  },
  "language_info": {
   "codemirror_mode": {
    "name": "ipython",
    "version": 3
   },
   "file_extension": ".py",
   "mimetype": "text/x-python",
   "name": "python",
   "nbconvert_exporter": "python",
   "pygments_lexer": "ipython3",
   "version": "3.10.10"
  },
  "papermill": {
   "default_parameters": {},
   "duration": 283.735312,
   "end_time": "2023-06-15T16:44:34.633717",
   "environment_variables": {},
   "exception": null,
   "input_path": "__notebook__.ipynb",
   "output_path": "__notebook__.ipynb",
   "parameters": {},
   "start_time": "2023-06-15T16:39:50.898405",
   "version": "2.4.0"
  }
 },
 "nbformat": 4,
 "nbformat_minor": 5
}

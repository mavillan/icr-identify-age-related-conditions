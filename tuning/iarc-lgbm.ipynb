{
 "cells": [
  {
   "cell_type": "code",
   "execution_count": null,
   "id": "791e4da7",
   "metadata": {
    "_cell_guid": "b1076dfc-b9ad-4769-8c92-a6c4dae69d19",
    "_uuid": "8f2839f25d086af736a60e9eeb907d3b93b6e0e5",
    "papermill": {
     "duration": 2.806532,
     "end_time": "2023-06-15T16:40:06.936763",
     "exception": false,
     "start_time": "2023-06-15T16:40:04.130231",
     "status": "completed"
    },
    "tags": []
   },
   "outputs": [],
   "source": [
    "import numpy as np\n",
    "import pandas as pd\n",
    "import matplotlib.pyplot as plt\n",
    "import joblib\n",
    "import gc\n",
    "\n",
    "import lightgbm as lgb\n",
    "from sklearn import preprocessing\n",
    "from sklearn import pipeline\n",
    "from sklearn import impute\n",
    "from scipy.optimize import minimize\n",
    "from scipy.stats import beta\n",
    "\n",
    "import optuna\n",
    "from optuna.visualization import (\n",
    "    plot_contour\n",
    "    , plot_edf\n",
    "    , plot_intermediate_values\n",
    "    , plot_optimization_history\n",
    "    , plot_parallel_coordinate\n",
    "    , plot_param_importances\n",
    "    , plot_slice\n",
    ")\n",
    "\n",
    "pd.set_option('display.max_columns', None)\n",
    "\n",
    "\n",
    "import plotly.express as px\n",
    "import plotly.io as pio\n",
    "pio.renderers.default = \"png\""
   ]
  },
  {
   "cell_type": "markdown",
   "id": "663b684f",
   "metadata": {
    "papermill": {
     "duration": 0.004786,
     "end_time": "2023-06-15T16:40:06.947030",
     "exception": false,
     "start_time": "2023-06-15T16:40:06.942244",
     "status": "completed"
    },
    "tags": []
   },
   "source": [
    "***\n",
    "## loading data"
   ]
  },
  {
   "cell_type": "code",
   "execution_count": null,
   "id": "783b3296",
   "metadata": {
    "papermill": {
     "duration": 0.19407,
     "end_time": "2023-06-15T16:40:07.146144",
     "exception": false,
     "start_time": "2023-06-15T16:40:06.952074",
     "status": "completed"
    },
    "tags": []
   },
   "outputs": [],
   "source": [
    "input_path = \"../data/raw\"\n",
    "\n",
    "train = pd.read_csv(f\"{input_path}/train.csv\")\n",
    "test  = pd.read_csv(f\"{input_path}/test.csv\")\n",
    "greeks = pd.read_csv(f\"{input_path}/greeks.csv\")\n",
    "\n",
    "train.columns = [col.strip() for col in train.columns]\n",
    "test.columns = [col.strip() for col in test.columns]\n",
    "\n",
    "# available features\n",
    "input_cols = train.columns[1:-1]\n",
    "categ_cols = [\"EJ\"]\n",
    "\n",
    "# we extend train with dummies from greeks\n",
    "dummies = pd.get_dummies(greeks[[\"Alpha\",\"Beta\",\"Gamma\",\"Delta\"]])\n",
    "train[dummies.columns] = dummies\n",
    "\n",
    "# encode of categorical features\n",
    "encoder = preprocessing.LabelEncoder().fit(train[\"EJ\"])\n",
    "train[\"EJ\"] = encoder.transform(train[\"EJ\"]).astype(int)\n",
    "test[\"EJ\"] = encoder.transform(test[\"EJ\"]).astype(int)\n",
    "\n",
    "display(train)"
   ]
  },
  {
   "cell_type": "code",
   "execution_count": null,
   "id": "af7fd851-e720-4080-bce7-416e45c63955",
   "metadata": {},
   "outputs": [],
   "source": [
    "preproc_pipe = pipeline.Pipeline([\n",
    "    (\"imputer\", impute.SimpleImputer(strategy=\"median\")), \n",
    "    (\"scaler\", preprocessing.MaxAbsScaler()),\n",
    "])\n",
    "\n",
    "preproc_pipe.fit(train[input_cols])\n",
    "display(preproc_pipe)\n",
    "\n",
    "train[input_cols] = preproc_pipe.transform(train[input_cols])\n",
    "test[input_cols] = preproc_pipe.transform(test[input_cols])"
   ]
  },
  {
   "cell_type": "code",
   "execution_count": null,
   "id": "7a5870a8",
   "metadata": {
    "papermill": {
     "duration": 0.044654,
     "end_time": "2023-06-15T16:40:07.198018",
     "exception": false,
     "start_time": "2023-06-15T16:40:07.153364",
     "status": "completed"
    },
    "tags": []
   },
   "outputs": [],
   "source": [
    "repeated_cv_split = joblib.load(\"../data/iarc-data-split/repeated_5fold_cv_split_4tuning.pkl\")\n",
    "print(len(repeated_cv_split))\n",
    "\n",
    "# number of repetitions to use\n",
    "REPETITIONS = 10"
   ]
  },
  {
   "cell_type": "markdown",
   "id": "aa995e32",
   "metadata": {
    "execution": {
     "iopub.execute_input": "2023-06-09T16:05:50.036679Z",
     "iopub.status.busy": "2023-06-09T16:05:50.036272Z",
     "iopub.status.idle": "2023-06-09T16:05:50.061002Z",
     "shell.execute_reply": "2023-06-09T16:05:50.059984Z",
     "shell.execute_reply.started": "2023-06-09T16:05:50.036650Z"
    },
    "papermill": {
     "duration": 0.006725,
     "end_time": "2023-06-15T16:40:07.211800",
     "exception": false,
     "start_time": "2023-06-15T16:40:07.205075",
     "status": "completed"
    },
    "tags": []
   },
   "source": [
    "***\n",
    "## training"
   ]
  },
  {
   "cell_type": "code",
   "execution_count": null,
   "id": "3473651c",
   "metadata": {
    "papermill": {
     "duration": 0.018317,
     "end_time": "2023-06-15T16:40:07.236931",
     "exception": false,
     "start_time": "2023-06-15T16:40:07.218614",
     "status": "completed"
    },
    "tags": []
   },
   "outputs": [],
   "source": [
    "def balanced_logloss_(y_pred, y_true):\n",
    "    n0 = np.sum(1-y_true)\n",
    "    n1 = np.sum(y_true)\n",
    "    p1 = np.clip(y_pred, 1e-15, 1-1e-15)\n",
    "    p0 = 1-p1\n",
    "    log_loss0 = - np.sum((1-y_true) * np.log(p0)) / n0\n",
    "    log_loss1 = - np.sum(y_true * np.log(p1)) / n1\n",
    "    return (log_loss0 + log_loss1)/2\n",
    "\n",
    "def balanced_logloss(y_pred: np.ndarray, data: lgb.Dataset):\n",
    "    y_true = data.get_label()\n",
    "    return 'balanced_logloss', balanced_logloss_(y_pred, y_true), False "
   ]
  },
  {
   "cell_type": "code",
   "execution_count": null,
   "id": "a8d4a43f-6d48-4e04-869d-f8b4387452a3",
   "metadata": {
    "tags": []
   },
   "outputs": [],
   "source": [
    "pct = train.Class.value_counts(normalize=True)\n",
    "scale_pos_weight = pct[0]/pct[1]\n",
    "print(\"scale_pos_weight:\", scale_pos_weight)\n",
    "\n",
    "cnt = train.Class.value_counts(normalize=False)\n",
    "neg_bagging_fraction = cnt[1]/cnt[0]\n",
    "print(\"neg_bagging_fraction:\", neg_bagging_fraction)"
   ]
  },
  {
   "cell_type": "code",
   "execution_count": null,
   "id": "1d1172b4",
   "metadata": {
    "papermill": {
     "duration": 0.025022,
     "end_time": "2023-06-15T16:40:07.268825",
     "exception": false,
     "start_time": "2023-06-15T16:40:07.243803",
     "status": "completed"
    },
    "tags": []
   },
   "outputs": [],
   "source": [
    "#balance_method = \"weight\"\n",
    "balance_method = \"bagging\"\n",
    "\n",
    "DEFAULT_PARAMS = {\n",
    "    'objective': 'binary',\n",
    "    'metric': 'None',\n",
    "    'learning_rate': 0.005,\n",
    "    'bagging_freq': 1,\n",
    "    'seed': 2112,\n",
    "    'first_metric_only': False,\n",
    "    'feature_pre_filter': False,\n",
    "    'verbosity': -1,\n",
    "\n",
    "    'linear_tree':True,\n",
    "    #'boosting':'dart',\n",
    "\n",
    "    #'max_bin': 63,\n",
    "    #'num_leaves': 7,\n",
    "    \n",
    "    #'pos_bagging_fraction': 1,\n",
    "    #'neg_bagging_fraction': 0.21218074656188604,\n",
    "    \n",
    "    #'feature_fraction': 0.75,\n",
    "    #'lambda_l1': 0.00020196676966216634,\n",
    "    #'lambda_l2': 2.3627262174517976e-09,\n",
    "    #'min_data_in_leaf': 13,\n",
    "    #'min_gain_to_split': 0.0007626326850799573,\n",
    "    #'num_iterations': 1591,\n",
    "    #'path_smooth': 2.652521741711401e-09,\n",
    "}\n",
    "\n",
    "if balance_method == \"weight\":\n",
    "    DEFAULT_PARAMS[\"scale_pos_weight\"] = scale_pos_weight\n",
    "elif balance_method == \"bagging\":\n",
    "    DEFAULT_PARAMS[\"bagging_freq\"] = 1\n",
    "    DEFAULT_PARAMS[\"pos_bagging_fraction\"] = 1\n",
    "    DEFAULT_PARAMS[\"neg_bagging_fraction\"] = neg_bagging_fraction\n",
    "else:\n",
    "    print(\"Unknown balance_method\")\n",
    "    \n",
    "display(DEFAULT_PARAMS)"
   ]
  },
  {
   "cell_type": "code",
   "execution_count": null,
   "id": "8f39cbdb-9907-4eb4-9937-e797c36f9f93",
   "metadata": {
    "tags": []
   },
   "outputs": [],
   "source": [
    "def train_validate(\n",
    "        dataframe,\n",
    "        input_cols, \n",
    "        model_params,\n",
    "        repeated_cv_split,\n",
    "        n_repetitions=REPETITIONS,\n",
    "        verbose=False,\n",
    "    ):\n",
    "\n",
    "    metrics = list()\n",
    "    model_params = dict(model_params)\n",
    "    num_iterations = (\n",
    "        2000 if \"num_iterations\" not in model_params.keys() \n",
    "        else model_params.pop(\"num_iterations\")\n",
    "    )\n",
    "\n",
    "    for repeat in range(n_repetitions):\n",
    "        if verbose:\n",
    "            print(f\"REPEAT NUMBER: {repeat+1}/{n_repetitions}\")\n",
    "        cv_split = repeated_cv_split[f\"repeat_{repeat}\"]\n",
    "        n_folds = len(cv_split)\n",
    "        \n",
    "        for split in cv_split:\n",
    "            fold = split[\"fold\"]\n",
    "            train_idx = split[\"train_idx\"]\n",
    "            valid_idx = split[\"valid_idx\"]\n",
    "            if verbose:\n",
    "                print(f\"training model for fold: {fold+1}/{n_folds}\")\n",
    "        \n",
    "            train_df = dataframe.loc[train_idx,:].reset_index(drop=True)\n",
    "            valid_df = dataframe.loc[valid_idx,:].reset_index(drop=True)\n",
    "\n",
    "            train_dset = lgb.Dataset(\n",
    "                data=train_df.loc[:,input_cols],\n",
    "                label=train_df.loc[:,\"Class\"].values,\n",
    "                free_raw_data=False\n",
    "            )\n",
    "            model = lgb.train(\n",
    "                params=model_params,\n",
    "                train_set=train_dset,\n",
    "                num_boost_round=num_iterations,\n",
    "            )\n",
    "            \n",
    "            if verbose:\n",
    "                lgb.plot_importance(model, importance_type=\"gain\", figsize=(8,15))\n",
    "                plt.show()\n",
    "                lgb.plot_importance(model, importance_type=\"split\", figsize=(8,15))\n",
    "                plt.show()\n",
    "\n",
    "            y_pred = model.predict(valid_df.loc[:,input_cols])\n",
    "            metrics.append( balanced_logloss_(y_pred, valid_df.loc[:,\"Class\"].values) )\n",
    "    \n",
    "    return np.mean(metrics), np.std(metrics)\n",
    "\n",
    "\n",
    "def objective(trial):\n",
    "    sampled_params = dict(\n",
    "        # general booster config\n",
    "        max_bin = 2**trial.suggest_int(\"max_bin_exp\", 4, 8) - 1,\n",
    "        num_leaves = 2**trial.suggest_int(\"num_leaves_exp\", 2, 6) - 1,\n",
    "        num_iterations = trial.suggest_int(\"num_iterations\", 100, 3000),\n",
    "        # regularization\n",
    "        feature_fraction = trial.suggest_float(\"feature_fraction\", 0.5, 1.0, step=0.05),\n",
    "        #bagging_fraction = trial.suggest_float(\"bagging_fraction\", 0.8, 1.0, step=0.01),\n",
    "        min_data_in_leaf = trial.suggest_int(\"min_data_in_leaf\", 5, 100),\n",
    "        \n",
    "        #lambda_l1 = trial.suggest_float(\"lambda_l1\", 1e-10, 1e1, log=True),\n",
    "        lambda_l2 = trial.suggest_float(\"lambda_l2\", 1e-10, 1e1, log=True),\n",
    "        path_smooth = trial.suggest_float(\"path_smooth\", 1e-10, 1e1, log=True),\n",
    "        min_gain_to_split = trial.suggest_float(\"min_gain_to_split\", 1e-10, 1e1, log=True),\n",
    "        max_delta_step = trial.suggest_float(\"max_delta_step\", 1e-10, 1e1, log=True),\n",
    "\n",
    "        # linear tree regularization parameter\n",
    "        linear_lambda = trial.suggest_float(\"linear_lambda\", 1e-10, 1e1, log=True),\n",
    "\n",
    "        sigmoid = trial.suggest_float(\"sigmoid\", 0.1, 10,),\n",
    "        boost_from_average = trial.suggest_categorical(\"boost_from_average\", [True, False]),\n",
    "        \n",
    "        # dart\n",
    "        #drop_rate = trial.suggest_float(\"drop_rate\", 0.05, 0.3, step=0.01),\n",
    "        #max_drop = trial.suggest_int(\"max_drop\", 10, 100, 5),\n",
    "        #skip_drop = trial.suggest_float(\"skip_drop\", 0.2, 0.8, step=0.05),\n",
    "    )\n",
    "    model_params = {**DEFAULT_PARAMS, **sampled_params}\n",
    "    \n",
    "    metric_mean, metric_std = train_validate(\n",
    "        dataframe = train,\n",
    "        input_cols = input_cols,\n",
    "        model_params = model_params,\n",
    "        repeated_cv_split = repeated_cv_split,\n",
    "        n_repetitions = REPETITIONS,\n",
    "        verbose = False,\n",
    "    )\n",
    "    \n",
    "    return metric_mean"
   ]
  },
  {
   "cell_type": "code",
   "execution_count": null,
   "id": "dd1ce92b-0991-4967-8f51-f27d31fbcfd1",
   "metadata": {
    "tags": []
   },
   "outputs": [],
   "source": [
    "%%time\n",
    "\n",
    "train_validate(\n",
    "    dataframe = train,\n",
    "    input_cols = input_cols,\n",
    "    model_params = DEFAULT_PARAMS,\n",
    "    repeated_cv_split = repeated_cv_split,\n",
    "    n_repetitions = REPETITIONS,\n",
    "    verbose = False\n",
    "    \n",
    ")"
   ]
  },
  {
   "cell_type": "code",
   "execution_count": null,
   "id": "ea38970c-522c-4506-9ed8-a0b04401593c",
   "metadata": {
    "tags": []
   },
   "outputs": [],
   "source": [
    "do_optimize = True\n",
    "\n",
    "study = optuna.create_study(\n",
    "    study_name=\"iarc-lgbm-linear-bagging-balanced\",\n",
    "    direction='minimize',\n",
    "    storage='sqlite:///iarc-lgbm-linear-bagging-balanced.db',\n",
    "    load_if_exists=True,\n",
    ")\n",
    "\n",
    "if do_optimize:\n",
    "    study.optimize(\n",
    "        objective, \n",
    "        n_trials=10_000, \n",
    "        timeout=43200, # 12 hours\n",
    "        n_jobs=1, \n",
    "        gc_after_trial=True,\n",
    "    ) "
   ]
  },
  {
   "cell_type": "code",
   "execution_count": null,
   "id": "1af4fee2-c3d4-4e1a-9854-d5a74865e060",
   "metadata": {
    "tags": []
   },
   "outputs": [],
   "source": [
    "study.trials_dataframe().sort_values(\"value\", ascending=True).head(20)"
   ]
  },
  {
   "cell_type": "code",
   "execution_count": null,
   "id": "318b0518-c689-4f08-b0cd-158e9087ae60",
   "metadata": {
    "tags": []
   },
   "outputs": [],
   "source": [
    "plot_optimization_history(study)"
   ]
  },
  {
   "cell_type": "code",
   "execution_count": null,
   "id": "cf396a79-1638-45ba-b2f1-ace3c310260b",
   "metadata": {
    "tags": []
   },
   "outputs": [],
   "source": [
    "plot_param_importances(study)"
   ]
  },
  {
   "cell_type": "code",
   "execution_count": null,
   "id": "cbd2e02a-b799-4e04-9448-5a36a213efeb",
   "metadata": {
    "tags": []
   },
   "outputs": [],
   "source": [
    "plot_slice(study)"
   ]
  },
  {
   "cell_type": "code",
   "execution_count": null,
   "id": "0890fba3-07cb-4889-9387-fcd4e3dbb884",
   "metadata": {
    "tags": []
   },
   "outputs": [],
   "source": [
    "plot_edf(study)"
   ]
  },
  {
   "cell_type": "code",
   "execution_count": null,
   "id": "73a0f23b-e67e-4af1-b8aa-f25fd6b3519e",
   "metadata": {
    "tags": []
   },
   "outputs": [],
   "source": [
    "plot_parallel_coordinate(study)"
   ]
  },
  {
   "cell_type": "code",
   "execution_count": null,
   "id": "3fa53e62-a488-4f7e-99fa-c3d6c7b6689b",
   "metadata": {
    "tags": []
   },
   "outputs": [],
   "source": [
    "best_params = dict(study.best_params)\n",
    "best_params[\"max_bin\"] = 2**best_params.pop(\"max_bin_exp\")-1\n",
    "best_params[\"num_leaves\"] = 2**best_params.pop(\"num_leaves_exp\")-1\n",
    "best_params = {**DEFAULT_PARAMS, **best_params}\n",
    "best_params"
   ]
  },
  {
   "cell_type": "markdown",
   "id": "25f6e7fd",
   "metadata": {
    "papermill": {
     "duration": 0.0756,
     "end_time": "2023-06-15T16:44:33.334089",
     "exception": false,
     "start_time": "2023-06-15T16:44:33.258489",
     "status": "completed"
    },
    "tags": []
   },
   "source": [
    "***"
   ]
  }
 ],
 "metadata": {
  "kernelspec": {
   "display_name": "Python 3 (ipykernel)",
   "language": "python",
   "name": "python3"
  },
  "language_info": {
   "codemirror_mode": {
    "name": "ipython",
    "version": 3
   },
   "file_extension": ".py",
   "mimetype": "text/x-python",
   "name": "python",
   "nbconvert_exporter": "python",
   "pygments_lexer": "ipython3",
   "version": "3.10.10"
  },
  "papermill": {
   "default_parameters": {},
   "duration": 283.735312,
   "end_time": "2023-06-15T16:44:34.633717",
   "environment_variables": {},
   "exception": null,
   "input_path": "__notebook__.ipynb",
   "output_path": "__notebook__.ipynb",
   "parameters": {},
   "start_time": "2023-06-15T16:39:50.898405",
   "version": "2.4.0"
  }
 },
 "nbformat": 4,
 "nbformat_minor": 5
}
